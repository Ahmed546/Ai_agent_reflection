{
 "cells": [
  {
   "cell_type": "code",
   "execution_count": null,
   "metadata": {},
   "outputs": [],
   "source": []
  },
  {
   "cell_type": "code",
   "execution_count": 1,
   "metadata": {},
   "outputs": [
    {
     "name": "stdout",
     "output_type": "stream",
     "text": [
      "ok\n"
     ]
    }
   ],
   "source": [
    "print(\"ok\")"
   ]
  },
  {
   "cell_type": "code",
   "execution_count": 1,
   "metadata": {},
   "outputs": [],
   "source": [
    "import os\n",
    "from groq import Groq\n",
    "from IPython.display import display_markdown\n",
    "import os"
   ]
  },
  {
   "cell_type": "code",
   "execution_count": null,
   "metadata": {},
   "outputs": [],
   "source": []
  },
  {
   "cell_type": "code",
   "execution_count": 2,
   "metadata": {},
   "outputs": [],
   "source": [
    "os.environ[\"GROQ_API_KEY\"] =  os.getenv('GROQ_API_KEY')\n",
    "client = Groq()"
   ]
  },
  {
   "cell_type": "code",
   "execution_count": 3,
   "metadata": {},
   "outputs": [],
   "source": [
    "generation_chat_history = [\n",
    "    {\n",
    "\n",
    "        \"role\": \"system\",\n",
    "        \"content\": \"You are an experienced Python programmer who generate high quality Python code for users with there explanations\"\n",
    "        \"Here's your task: You will Generate the best content for the user's request and give explanation of code line by line. If the user provides critique,\"\n",
    "        \"respond with a revised version of your previous attempt.\"\n",
    "        \"also in the end always ask - Do you have any feedback or would you like me to revise anything?\"\n",
    "        \"In each output you will tell me whats new you have added for the user in comparison to earlier output\"\n",
    "    }\n",
    "]\n"
   ]
  },
  {
   "cell_type": "code",
   "execution_count": 4,
   "metadata": {},
   "outputs": [],
   "source": [
    "generation_chat_history.append(\n",
    "    {\n",
    "        \"role\": \"user\",\n",
    "        \"content\": \"Generate a Python implementation of the Fibonacci series for beginner students\"\n",
    "    }\n",
    ")\n",
    "fibonacci_code = client.chat.completions.create(\n",
    "    messages=generation_chat_history,\n",
    "    model=\"llama3-70b-8192\"\n",
    ").choices[0].message.content"
   ]
  },
  {
   "cell_type": "code",
   "execution_count": 5,
   "metadata": {},
   "outputs": [
    {
     "data": {
      "text/markdown": [
       "Here is a Python implementation of the Fibonacci series for beginner students:\n",
       "```\n",
       "def fibonacci(n):\n",
       "    \"\"\"\n",
       "    Returns the nth Fibonacci number.\n",
       "    \n",
       "    The Fibonacci sequence is a series of numbers where each number is the sum of the two preceding ones, usually starting with 0 and 1.\n",
       "    \n",
       "    Args:\n",
       "        n (int): The position of the Fibonacci number to return.\n",
       "    \n",
       "    Returns:\n",
       "        int: The nth Fibonacci number.\n",
       "    \"\"\"\n",
       "    if n <= 0:\n",
       "        return \"Input should be a positive integer.\"\n",
       "    elif n == 1:\n",
       "        return 0\n",
       "    elif n == 2:\n",
       "        return 1\n",
       "    else:\n",
       "        a, b = 0, 1\n",
       "        for _ in range(2, n):\n",
       "            a, b = b, a + b\n",
       "        return b\n",
       "\n",
       "# Test the function\n",
       "for i in range(1, 11):\n",
       "    print(f\"Fibonacci number {i} is {fibonacci(i)}\")\n",
       "```\n",
       "Explanation:\n",
       "\n",
       "* The `fibonacci` function takes an integer `n` as input and returns the `n`-th Fibonacci number.\n",
       "* The function first checks if `n` is less than or equal to 0, in which case it returns an error message.\n",
       "* If `n` is 1 or 2, it returns the corresponding Fibonacci number (0 and 1, respectively).\n",
       "* For `n` greater than 2, the function uses a loop to calculate the `n`-th Fibonacci number. It initializes two variables `a` and `b` to 0 and 1, respectively, which will be used to calculate the Fibonacci sequence.\n",
       "* In each iteration of the loop, the values of `a` and `b` are updated to `b` and `a + b`, respectively. This is the recursive formula for the Fibonacci sequence.\n",
       "* Finally, the function returns the `n`-th Fibonacci number, which is stored in `b`.\n",
       "* The last part of the code is a test loop that prints the first 10 Fibonacci numbers using the `fibonacci` function.\n",
       "\n",
       "What's new: I added a docstring to the `fibonacci` function to explain what it does, and I also added a test loop to demonstrate the usage of the function.\n",
       "\n",
       "Do you have any feedback or would you like me to revise anything?"
      ]
     },
     "metadata": {},
     "output_type": "display_data"
    }
   ],
   "source": [
    "generation_chat_history.append(\n",
    "\n",
    "    {\n",
    "        \"role\": \"assistant\",\n",
    "        \"content\": fibonacci_code\n",
    "    }\n",
    ")\n",
    "display_markdown(fibonacci_code, raw=True)"
   ]
  },
  {
   "cell_type": "code",
   "execution_count": 6,
   "metadata": {},
   "outputs": [
    {
     "data": {
      "text/markdown": [
       "Your implementation is clear and follows the best practices of Python coding. Here are some minor suggestions and critiques to make your code even better:\n",
       "\n",
       "1. **Error Handling**: Instead of returning a string when `n` is less than or equal to 0, consider raising a `ValueError`. This is more Pythonic and helps the caller handle the error more elegantly.\n",
       "\n",
       "2. **Type Hints**: While you've documented the function's return type, consider adding type hints for the function's arguments and return types. This makes your code more readable and self-documenting.\n",
       "\n",
       "3. **Consistent Spacing**: In the docstring, there's an extra newline between the summary and the description. You can remove it for better readability.\n",
       "\n",
       "Here's the refactored code with these suggestions:\n",
       "\n",
       "```python\n",
       "def fibonacci(n: int) -> int:\n",
       "    \"\"\"\n",
       "    Returns the nth Fibonacci number.\n",
       "    The Fibonacci sequence is a series of numbers where each number is the sum of the two preceding ones, usually starting with 0 and 1.\n",
       "    Args:\n",
       "        n (int): The position of the Fibonacci number to return.\n",
       "    Returns:\n",
       "        int: The nth Fibonacci number.\n",
       "    \"\"\"\n",
       "    if n <= 0:\n",
       "        raise ValueError(\"Input should be a positive integer.\")\n",
       "    elif n == 1:\n",
       "        return 0\n",
       "    elif n == 2:\n",
       "        return 1\n",
       "    else:\n",
       "        a, b = 0, 1\n",
       "        for _ in range(2, n):\n",
       "            a, b = b, a + b\n",
       "        return b\n",
       "\n",
       "# Test the function\n",
       "for i in range(1, 11):\n",
       "    print(f\"Fibonacci number {i} is {fibonacci(i)}\")\n",
       "```\n",
       "\n",
       "These suggestions are minor and don't change the overall logic of your function. Your code is already well-written and easy to understand. Keep up the good work!"
      ]
     },
     "metadata": {},
     "output_type": "display_data"
    }
   ],
   "source": [
    "reflection_chat_history = [\n",
    "   {\n",
    "   \"role\": \"system\",\n",
    "   \"content\": \"You are Waleed Ahmed, an experienced Python coder. With this experience in Python generate critique and recommendations for user output on the given prompt\",\n",
    "   }\n",
    "]\n",
    "reflection_chat_history.append(\n",
    "   {\n",
    "       \"role\": \"user\",\n",
    "       \"content\": fibonacci_code\n",
    "   }\n",
    ")\n",
    "critique = client.chat.completions.create(\n",
    "   messages=reflection_chat_history,\n",
    "   model=\"llama3-70b-8192\"\n",
    ").choices[0].message.content\n",
    "display_markdown(critique, raw=True)"
   ]
  },
  {
   "cell_type": "code",
   "execution_count": 7,
   "metadata": {},
   "outputs": [
    {
     "data": {
      "text/markdown": [
       "Overall, your implementation of the Fibonacci series is correct and well-explained. Here are some minor suggestions for improvement:\n",
       "\n",
       "**Error Handling**: In the `fibonacci` function, you return a string error message when `n` is less than or equal to 0. This can be misleading because the function's return type is expected to be an integer. Instead, consider raising a `ValueError` exception with a descriptive error message. This will allow the caller to handle the error more elegantly.\n",
       "\n",
       "**Consistent Indentation**: You're using 4 spaces for indentation, which is perfect. However, in the docstring, you have an inconsistent number of spaces before the last sentence. Make sure to maintain the same indentation throughout the code.\n",
       "\n",
       "**Docstring Improvements**: Your docstring is a great start! Consider adding some details about the time complexity of the function (in this case, it's O(n)) and any assumptions or constraints on the input `n`.\n",
       "\n",
       "**Naming Convention**: The variable names `a` and `b` are not very descriptive. You could rename them to `prev` and `curr` to indicate their roles in the Fibonacci sequence calculation.\n",
       "\n",
       "**Test Loop**: The test loop is a great addition! However, you could consider using a more descriptive variable name instead of `i`. For example, `num` or `fib_idx` would make the code more readable.\n",
       "\n",
       "Here's the revised code incorporating these suggestions:\n",
       "```python\n",
       "def fibonacci(n):\n",
       "    \"\"\"\n",
       "    Returns the nth Fibonacci number.\n",
       "    \n",
       "    The Fibonacci sequence is a series of numbers where each number is the sum of the two preceding ones, usually starting with 0 and 1.\n",
       "    \n",
       "    Args:\n",
       "        n (int): The position of the Fibonacci number to return.\n",
       "    \n",
       "    Returns:\n",
       "        int: The nth Fibonacci number.\n",
       "    \n",
       "    Raises:\n",
       "        ValueError: If n is less than or equal to 0.\n",
       "    \n",
       "    Time Complexity: O(n)\n",
       "    \"\"\"\n",
       "    if n <= 0:\n",
       "        raise ValueError(\"Input should be a positive integer.\")\n",
       "    elif n == 1:\n",
       "        return 0\n",
       "    elif n == 2:\n",
       "        return 1\n",
       "    else:\n",
       "        prev, curr = 0, 1\n",
       "        for _ in range(2, n):\n",
       "            prev, curr = curr, prev + curr\n",
       "        return curr\n",
       "\n",
       "# Test the function\n",
       "for num in range(1, 11):\n",
       "    print(f\"Fibonacci number {num} is {fibonacci(num)}\")\n",
       "```\n",
       "Overall, your code is well-structured, and these suggestions are minor improvements to make it more robust and readable."
      ]
     },
     "metadata": {},
     "output_type": "display_data"
    }
   ],
   "source": [
    "Generation_2 = client.chat.completions.create(\n",
    "   messages=reflection_chat_history,\n",
    "   model=\"llama3-70b-8192\"\n",
    ").choices[0].message.content\n",
    "display_markdown(Generation_2, raw=True)"
   ]
  },
  {
   "cell_type": "code",
   "execution_count": 8,
   "metadata": {},
   "outputs": [
    {
     "data": {
      "text/markdown": [
       "I completely agree with your suggestions. Here's a breakdown of each point:\n",
       "\n",
       "**Error Handling**: You're absolutely right. Instead of returning a string error message, it's better to raise a `ValueError` exception. This way, the caller can handle the error more elegantly and the function's return type remains consistent.\n",
       "\n",
       "**Consistent Indentation**: Good catch on the inconsistent indentation in the docstring! I'll make sure to maintain the same indentation throughout the code.\n",
       "\n",
       "**Docstring Improvements**: Adding details about the time complexity of the function is a great idea. It helps other developers understand the performance characteristics of the code. Additionally, specifying any assumptions or constraints on the input `n` can prevent unexpected behavior.\n",
       "\n",
       "**Naming Convention**: Renaming `a` and `b` to `prev` and `curr` makes the code more readable and easier to understand. It's essential to choose descriptive variable names that convey their purpose.\n",
       "\n",
       "**Test Loop**: Using a more descriptive variable name like `num` or `fib_idx` instead of `i` makes the code more readable.\n",
       "\n",
       "The revised code you provided incorporates all these suggestions and is a significant improvement over the original code. The docstring is more informative, the error handling is more robust, and the code is more readable. Well done!\n",
       "\n",
       "One minor suggestion I have is to consider adding a type hint for the return value of the `fibonacci` function. For example:\n",
       "```python\n",
       "def fibonacci(n: int) -> int:\n",
       "    ...\n",
       "```\n",
       "This can help with code readability and make it easier for other developers to understand the function's signature.\n",
       "\n",
       "Overall, the revised code is excellent, and I'm glad we could collaborate to improve it!"
      ]
     },
     "metadata": {},
     "output_type": "display_data"
    }
   ],
   "source": [
    "reflection_chat_history.append(\n",
    "   {\n",
    "       \"role\": \"user\",\n",
    "       \"content\": Generation_2\n",
    "   }\n",
    ")\n",
    "critique_1 = client.chat.completions.create(\n",
    "   messages=reflection_chat_history,\n",
    "   model=\"llama3-70b-8192\"\n",
    ").choices[0].message.content\n",
    "display_markdown(critique_1, raw=True)"
   ]
  },
  {
   "cell_type": "code",
   "execution_count": 9,
   "metadata": {},
   "outputs": [
    {
     "data": {
      "text/markdown": [
       "Thank you for the feedback! I'm glad you found my suggestions helpful.\n",
       "\n",
       "Here is the revised code with the suggested improvements:\n",
       "```\n",
       "def fibonacci(n: int) -> int:\n",
       "    \"\"\"\n",
       "    Returns the nth Fibonacci number.\n",
       "    \n",
       "    The Fibonacci sequence is a series of numbers where each number is the sum of the two preceding ones, usually starting with 0 and 1.\n",
       "    \n",
       "    Args:\n",
       "        n (int): The position of the Fibonacci number to return. Should be a positive integer.\n",
       "    \n",
       "    Returns:\n",
       "        int: The nth Fibonacci number.\n",
       "    \n",
       "    Raises:\n",
       "        ValueError: If n is less than or equal to 0.\n",
       "    \n",
       "    Time Complexity:\n",
       "        O(n)\n",
       "    \"\"\"\n",
       "    if n <= 0:\n",
       "        raise ValueError(\"Input should be a positive integer.\")\n",
       "    elif n == 1:\n",
       "        return 0\n",
       "    elif n == 2:\n",
       "        return 1\n",
       "    else:\n",
       "        prev, curr = 0, 1\n",
       "        for _ in range(2, n):\n",
       "            prev, curr = curr, prev + curr\n",
       "        return curr\n",
       "\n",
       "# Test the function\n",
       "for num in range(1, 11):\n",
       "    print(f\"Fibonacci number {num} is {fibonacci(num)}\")\n",
       "```\n",
       "What's new: I added type hints for the function parameters and return value, and I also added a `Raises` section to the docstring to document the `ValueError` exception.\n",
       "\n",
       "I'm glad we could collaborate to improve the code! Do you have any further feedback or would you like me to revise anything?"
      ]
     },
     "metadata": {},
     "output_type": "display_data"
    }
   ],
   "source": [
    "generation_chat_history.append(\n",
    "   {\n",
    "       \"role\": \"user\",\n",
    "       \"content\": critique_1\n",
    "   }\n",
    ")\n",
    "Generation_3 = client.chat.completions.create(\n",
    "   messages=generation_chat_history,\n",
    "   model=\"llama3-70b-8192\"\n",
    ").choices[0].message.content\n",
    "display_markdown(Generation_3, raw=True)\n"
   ]
  },
  {
   "cell_type": "code",
   "execution_count": 10,
   "metadata": {},
   "outputs": [],
   "source": [
    "results= [fibonacci_code,critique,Generation_2,critique_1,Generation_3]"
   ]
  },
  {
   "cell_type": "code",
   "execution_count": 11,
   "metadata": {},
   "outputs": [
    {
     "name": "stdout",
     "output_type": "stream",
     "text": [
      "Generation\n"
     ]
    },
    {
     "data": {
      "text/markdown": [
       "Here is a Python implementation of the Fibonacci series for beginner students:\n",
       "```\n",
       "def fibonacci(n):\n",
       "    \"\"\"\n",
       "    Returns the nth Fibonacci number.\n",
       "    \n",
       "    The Fibonacci sequence is a series of numbers where each number is the sum of the two preceding ones, usually starting with 0 and 1.\n",
       "    \n",
       "    Args:\n",
       "        n (int): The position of the Fibonacci number to return.\n",
       "    \n",
       "    Returns:\n",
       "        int: The nth Fibonacci number.\n",
       "    \"\"\"\n",
       "    if n <= 0:\n",
       "        return \"Input should be a positive integer.\"\n",
       "    elif n == 1:\n",
       "        return 0\n",
       "    elif n == 2:\n",
       "        return 1\n",
       "    else:\n",
       "        a, b = 0, 1\n",
       "        for _ in range(2, n):\n",
       "            a, b = b, a + b\n",
       "        return b\n",
       "\n",
       "# Test the function\n",
       "for i in range(1, 11):\n",
       "    print(f\"Fibonacci number {i} is {fibonacci(i)}\")\n",
       "```\n",
       "Explanation:\n",
       "\n",
       "* The `fibonacci` function takes an integer `n` as input and returns the `n`-th Fibonacci number.\n",
       "* The function first checks if `n` is less than or equal to 0, in which case it returns an error message.\n",
       "* If `n` is 1 or 2, it returns the corresponding Fibonacci number (0 and 1, respectively).\n",
       "* For `n` greater than 2, the function uses a loop to calculate the `n`-th Fibonacci number. It initializes two variables `a` and `b` to 0 and 1, respectively, which will be used to calculate the Fibonacci sequence.\n",
       "* In each iteration of the loop, the values of `a` and `b` are updated to `b` and `a + b`, respectively. This is the recursive formula for the Fibonacci sequence.\n",
       "* Finally, the function returns the `n`-th Fibonacci number, which is stored in `b`.\n",
       "* The last part of the code is a test loop that prints the first 10 Fibonacci numbers using the `fibonacci` function.\n",
       "\n",
       "What's new: I added a docstring to the `fibonacci` function to explain what it does, and I also added a test loop to demonstrate the usage of the function.\n",
       "\n",
       "Do you have any feedback or would you like me to revise anything?"
      ]
     },
     "metadata": {},
     "output_type": "display_data"
    },
    {
     "name": "stdout",
     "output_type": "stream",
     "text": [
      "\n",
      "Reflection\n"
     ]
    },
    {
     "data": {
      "text/markdown": [
       "Your implementation is clear and follows the best practices of Python coding. Here are some minor suggestions and critiques to make your code even better:\n",
       "\n",
       "1. **Error Handling**: Instead of returning a string when `n` is less than or equal to 0, consider raising a `ValueError`. This is more Pythonic and helps the caller handle the error more elegantly.\n",
       "\n",
       "2. **Type Hints**: While you've documented the function's return type, consider adding type hints for the function's arguments and return types. This makes your code more readable and self-documenting.\n",
       "\n",
       "3. **Consistent Spacing**: In the docstring, there's an extra newline between the summary and the description. You can remove it for better readability.\n",
       "\n",
       "Here's the refactored code with these suggestions:\n",
       "\n",
       "```python\n",
       "def fibonacci(n: int) -> int:\n",
       "    \"\"\"\n",
       "    Returns the nth Fibonacci number.\n",
       "    The Fibonacci sequence is a series of numbers where each number is the sum of the two preceding ones, usually starting with 0 and 1.\n",
       "    Args:\n",
       "        n (int): The position of the Fibonacci number to return.\n",
       "    Returns:\n",
       "        int: The nth Fibonacci number.\n",
       "    \"\"\"\n",
       "    if n <= 0:\n",
       "        raise ValueError(\"Input should be a positive integer.\")\n",
       "    elif n == 1:\n",
       "        return 0\n",
       "    elif n == 2:\n",
       "        return 1\n",
       "    else:\n",
       "        a, b = 0, 1\n",
       "        for _ in range(2, n):\n",
       "            a, b = b, a + b\n",
       "        return b\n",
       "\n",
       "# Test the function\n",
       "for i in range(1, 11):\n",
       "    print(f\"Fibonacci number {i} is {fibonacci(i)}\")\n",
       "```\n",
       "\n",
       "These suggestions are minor and don't change the overall logic of your function. Your code is already well-written and easy to understand. Keep up the good work!"
      ]
     },
     "metadata": {},
     "output_type": "display_data"
    },
    {
     "name": "stdout",
     "output_type": "stream",
     "text": [
      "\n",
      "Generation\n"
     ]
    },
    {
     "data": {
      "text/markdown": [
       "Overall, your implementation of the Fibonacci series is correct and well-explained. Here are some minor suggestions for improvement:\n",
       "\n",
       "**Error Handling**: In the `fibonacci` function, you return a string error message when `n` is less than or equal to 0. This can be misleading because the function's return type is expected to be an integer. Instead, consider raising a `ValueError` exception with a descriptive error message. This will allow the caller to handle the error more elegantly.\n",
       "\n",
       "**Consistent Indentation**: You're using 4 spaces for indentation, which is perfect. However, in the docstring, you have an inconsistent number of spaces before the last sentence. Make sure to maintain the same indentation throughout the code.\n",
       "\n",
       "**Docstring Improvements**: Your docstring is a great start! Consider adding some details about the time complexity of the function (in this case, it's O(n)) and any assumptions or constraints on the input `n`.\n",
       "\n",
       "**Naming Convention**: The variable names `a` and `b` are not very descriptive. You could rename them to `prev` and `curr` to indicate their roles in the Fibonacci sequence calculation.\n",
       "\n",
       "**Test Loop**: The test loop is a great addition! However, you could consider using a more descriptive variable name instead of `i`. For example, `num` or `fib_idx` would make the code more readable.\n",
       "\n",
       "Here's the revised code incorporating these suggestions:\n",
       "```python\n",
       "def fibonacci(n):\n",
       "    \"\"\"\n",
       "    Returns the nth Fibonacci number.\n",
       "    \n",
       "    The Fibonacci sequence is a series of numbers where each number is the sum of the two preceding ones, usually starting with 0 and 1.\n",
       "    \n",
       "    Args:\n",
       "        n (int): The position of the Fibonacci number to return.\n",
       "    \n",
       "    Returns:\n",
       "        int: The nth Fibonacci number.\n",
       "    \n",
       "    Raises:\n",
       "        ValueError: If n is less than or equal to 0.\n",
       "    \n",
       "    Time Complexity: O(n)\n",
       "    \"\"\"\n",
       "    if n <= 0:\n",
       "        raise ValueError(\"Input should be a positive integer.\")\n",
       "    elif n == 1:\n",
       "        return 0\n",
       "    elif n == 2:\n",
       "        return 1\n",
       "    else:\n",
       "        prev, curr = 0, 1\n",
       "        for _ in range(2, n):\n",
       "            prev, curr = curr, prev + curr\n",
       "        return curr\n",
       "\n",
       "# Test the function\n",
       "for num in range(1, 11):\n",
       "    print(f\"Fibonacci number {num} is {fibonacci(num)}\")\n",
       "```\n",
       "Overall, your code is well-structured, and these suggestions are minor improvements to make it more robust and readable."
      ]
     },
     "metadata": {},
     "output_type": "display_data"
    },
    {
     "name": "stdout",
     "output_type": "stream",
     "text": [
      "\n"
     ]
    }
   ],
   "source": [
    "for i in range(3):\n",
    " if i % 2 == 0:\n",
    "   print(\"Generation\")\n",
    " else:\n",
    "   print(\"Reflection\")\n",
    " display_markdown(results[i], raw=True)\n",
    " print()"
   ]
  },
  {
   "cell_type": "code",
   "execution_count": null,
   "metadata": {},
   "outputs": [],
   "source": []
  }
 ],
 "metadata": {
  "kernelspec": {
   "display_name": "Python 3",
   "language": "python",
   "name": "python3"
  },
  "language_info": {
   "codemirror_mode": {
    "name": "ipython",
    "version": 3
   },
   "file_extension": ".py",
   "mimetype": "text/x-python",
   "name": "python",
   "nbconvert_exporter": "python",
   "pygments_lexer": "ipython3",
   "version": "3.12.8"
  }
 },
 "nbformat": 4,
 "nbformat_minor": 2
}
